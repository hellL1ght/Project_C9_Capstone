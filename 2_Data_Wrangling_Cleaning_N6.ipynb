{
  "metadata": {
    "kernelspec": {
      "name": "python",
      "display_name": "Python (Pyodide)",
      "language": "python"
    },
    "language_info": {
      "codemirror_mode": {
        "name": "python",
        "version": 3
      },
      "file_extension": ".py",
      "mimetype": "text/x-python",
      "name": "python",
      "nbconvert_exporter": "python",
      "pygments_lexer": "ipython3",
      "version": "3.8"
    },
    "prev_pub_hash": "955deb52b02eec3e16e61df584232f2cc045079d697f475cb65582dbfebe300c"
  },
  "nbformat_minor": 4,
  "nbformat": 4,
  "cells": [
    {
      "cell_type": "markdown",
      "source": "<p style=\"text-align:center\">\n    <a href=\"https://skills.network/?utm_medium=Exinfluencer&utm_source=Exinfluencer&utm_content=000026UJ&utm_term=10006555&utm_id=NA-SkillsNetwork-Channel-SkillsNetworkCoursesIBMDA0321ENSkillsNetwork928-2022-01-01\" target=\"_blank\">\n    <img src=\"https://cf-courses-data.s3.us.cloud-object-storage.appdomain.cloud/assets/logos/SN_web_lightmode.png\" width=\"200\" alt=\"Skills Network Logo\"  />\n    </a>\n</p>\n",
      "metadata": {}
    },
    {
      "cell_type": "markdown",
      "source": "# **Data Wrangling Lab**\n",
      "metadata": {}
    },
    {
      "cell_type": "markdown",
      "source": "Estimated time needed: **45 to 60** minutes\n",
      "metadata": {}
    },
    {
      "cell_type": "markdown",
      "source": "In this assignment you will be performing data wrangling.\n",
      "metadata": {}
    },
    {
      "cell_type": "markdown",
      "source": "## Objectives\n",
      "metadata": {}
    },
    {
      "cell_type": "markdown",
      "source": "In this lab you will perform the following:\n",
      "metadata": {}
    },
    {
      "cell_type": "markdown",
      "source": "-   Identify duplicate values in the dataset.\n\n-   Remove duplicate values from the dataset.\n\n-   Identify missing values in the dataset.\n\n-   Impute the missing values in the dataset.\n\n-   Normalize data in the dataset.\n",
      "metadata": {}
    },
    {
      "cell_type": "markdown",
      "source": "<hr>\n",
      "metadata": {}
    },
    {
      "cell_type": "markdown",
      "source": "## Hands on Lab\n",
      "metadata": {}
    },
    {
      "cell_type": "markdown",
      "source": "Import pandas module.\n",
      "metadata": {}
    },
    {
      "cell_type": "code",
      "source": "import pandas as pd\nimport numpy as np",
      "metadata": {
        "trusted": true
      },
      "outputs": [],
      "execution_count": 109
    },
    {
      "cell_type": "markdown",
      "source": "Load the dataset into a dataframe.\n",
      "metadata": {}
    },
    {
      "cell_type": "markdown",
      "source": "<h2>Read Data</h2>\n<p>\nWe utilize the <code>pandas.read_csv()</code> function for reading CSV files. However, in this version of the lab, which operates on JupyterLite, the dataset needs to be downloaded to the interface using the provided code below.\n</p>\n",
      "metadata": {}
    },
    {
      "cell_type": "markdown",
      "source": "The functions below will download the dataset into your browser:\n",
      "metadata": {}
    },
    {
      "cell_type": "code",
      "source": "from pyodide.http import pyfetch\n\nasync def download(url, filename):\n    response = await pyfetch(url)\n    if response.status == 200:\n        with open(filename, \"wb\") as f:\n            f.write(await response.bytes())",
      "metadata": {
        "trusted": true
      },
      "outputs": [],
      "execution_count": 110
    },
    {
      "cell_type": "code",
      "source": "file_path = \"https://cf-courses-data.s3.us.cloud-object-storage.appdomain.cloud/IBM-DA0321EN-SkillsNetwork/LargeData/m1_survey_data.csv\"",
      "metadata": {
        "trusted": true
      },
      "outputs": [],
      "execution_count": 111
    },
    {
      "cell_type": "markdown",
      "source": "To obtain the dataset, utilize the download() function as defined above:  \n",
      "metadata": {}
    },
    {
      "cell_type": "code",
      "source": "await download(file_path, \"m1_survey_data.csv\")\nfile_name=\"m1_survey_data.csv\"\n",
      "metadata": {
        "trusted": true
      },
      "outputs": [],
      "execution_count": 112
    },
    {
      "cell_type": "markdown",
      "source": "Utilize the Pandas method read_csv() to load the data into a dataframe.\n",
      "metadata": {}
    },
    {
      "cell_type": "code",
      "source": "df = pd.read_csv(file_name)",
      "metadata": {
        "trusted": true
      },
      "outputs": [],
      "execution_count": 204
    },
    {
      "cell_type": "markdown",
      "source": "> Note: This version of the lab is working on JupyterLite, which requires the dataset to be downloaded to the interface.While working on the downloaded version of this notebook on their local machines(Jupyter Anaconda), the learners can simply **skip the steps above,** and simply use the URL directly in the `pandas.read_csv()` function. You can uncomment and run the statements in the cell below.\n",
      "metadata": {}
    },
    {
      "cell_type": "code",
      "source": "#df = pd.read_csv(\"https://cf-courses-data.s3.us.cloud-object-storage.appdomain.cloud/IBM-DA0321EN-SkillsNetwork/LargeData/m1_survey_data.csv\")\ndf.shape",
      "metadata": {
        "trusted": true,
        "scrolled": true
      },
      "outputs": [
        {
          "execution_count": 205,
          "output_type": "execute_result",
          "data": {
            "text/plain": "(11552, 85)"
          },
          "metadata": {}
        }
      ],
      "execution_count": 205
    },
    {
      "cell_type": "markdown",
      "source": "## Finding duplicates\n",
      "metadata": {}
    },
    {
      "cell_type": "markdown",
      "source": "In this section you will identify duplicate values in the dataset.\n",
      "metadata": {}
    },
    {
      "cell_type": "markdown",
      "source": " Find how many duplicate rows exist in the dataframe.\n",
      "metadata": {}
    },
    {
      "cell_type": "code",
      "source": "# your code goes here\ndup = df[df.duplicated()]\ndup.head(5)",
      "metadata": {
        "trusted": true
      },
      "outputs": [
        {
          "execution_count": 208,
          "output_type": "execute_result",
          "data": {
            "text/plain": "      Respondent                      MainBranch Hobbyist  \\\n1168        2339  I am a developer by profession      Yes   \n1169        2342  I am a developer by profession      Yes   \n1170        2343  I am a developer by profession      Yes   \n1171        2344  I am a developer by profession      Yes   \n1172        2347  I am a developer by profession      Yes   \n\n                                            OpenSourcer  \\\n1168                         Once a month or more often   \n1169                                              Never   \n1170  Less than once a month but more than once per ...   \n1171                                              Never   \n1172                                              Never   \n\n                                             OpenSource          Employment  \\\n1168  OSS is, on average, of HIGHER quality than pro...  Employed full-time   \n1169  The quality of OSS and closed source software ...  Employed full-time   \n1170  OSS is, on average, of LOWER quality than prop...  Employed full-time   \n1171  The quality of OSS and closed source software ...  Employed full-time   \n1172  OSS is, on average, of HIGHER quality than pro...  Employed full-time   \n\n             Country Student  \\\n1168   United States      No   \n1169  United Kingdom      No   \n1170          Canada      No   \n1171   United States      No   \n1172  United Kingdom      No   \n\n                                                EdLevel  \\\n1168  Some college/university study without earning ...   \n1169  Some college/university study without earning ...   \n1170        Master’s degree (MA, MS, M.Eng., MBA, etc.)   \n1171           Bachelor’s degree (BA, BS, B.Eng., etc.)   \n1172        Master’s degree (MA, MS, M.Eng., MBA, etc.)   \n\n                                         UndergradMajor  ...  \\\n1168  Computer science, computer engineering, or sof...  ...   \n1169  Information systems, information technology, o...  ...   \n1170  Computer science, computer engineering, or sof...  ...   \n1171  Computer science, computer engineering, or sof...  ...   \n1172  Computer science, computer engineering, or sof...  ...   \n\n                                 WelcomeChange  \\\n1168   Just as welcome now as I felt last year   \n1169  Somewhat more welcome now than last year   \n1170  Somewhat more welcome now than last year   \n1171   Just as welcome now as I felt last year   \n1172   Just as welcome now as I felt last year   \n\n                                           SONewContent   Age Gender Trans  \\\n1168                                                NaN  24.0    Man    No   \n1169  Tech meetups or events in your area;Courses on...  24.0    Man    No   \n1170  Tech articles written by other developers;Indu...  27.0    Man    No   \n1171  Tech articles written by other developers;Indu...  24.0    Man    No   \n1172                                                NaN   NaN  Woman    No   \n\n                    Sexuality  \\\n1168  Straight / Heterosexual   \n1169  Straight / Heterosexual   \n1170  Straight / Heterosexual   \n1171  Straight / Heterosexual   \n1172  Straight / Heterosexual   \n\n                                              Ethnicity Dependents  \\\n1168                       White or of European descent         No   \n1169                       White or of European descent         No   \n1170  Black or of African descent;White or of Europe...         No   \n1171                       White or of European descent         No   \n1172                                           Biracial         No   \n\n               SurveyLength                  SurveyEase  \n1168  Appropriate in length                        Easy  \n1169               Too long                        Easy  \n1170  Appropriate in length  Neither easy nor difficult  \n1171  Appropriate in length                        Easy  \n1172               Too long                        Easy  \n\n[5 rows x 85 columns]",
            "text/html": "<div>\n<style scoped>\n    .dataframe tbody tr th:only-of-type {\n        vertical-align: middle;\n    }\n\n    .dataframe tbody tr th {\n        vertical-align: top;\n    }\n\n    .dataframe thead th {\n        text-align: right;\n    }\n</style>\n<table border=\"1\" class=\"dataframe\">\n  <thead>\n    <tr style=\"text-align: right;\">\n      <th></th>\n      <th>Respondent</th>\n      <th>MainBranch</th>\n      <th>Hobbyist</th>\n      <th>OpenSourcer</th>\n      <th>OpenSource</th>\n      <th>Employment</th>\n      <th>Country</th>\n      <th>Student</th>\n      <th>EdLevel</th>\n      <th>UndergradMajor</th>\n      <th>...</th>\n      <th>WelcomeChange</th>\n      <th>SONewContent</th>\n      <th>Age</th>\n      <th>Gender</th>\n      <th>Trans</th>\n      <th>Sexuality</th>\n      <th>Ethnicity</th>\n      <th>Dependents</th>\n      <th>SurveyLength</th>\n      <th>SurveyEase</th>\n    </tr>\n  </thead>\n  <tbody>\n    <tr>\n      <th>1168</th>\n      <td>2339</td>\n      <td>I am a developer by profession</td>\n      <td>Yes</td>\n      <td>Once a month or more often</td>\n      <td>OSS is, on average, of HIGHER quality than pro...</td>\n      <td>Employed full-time</td>\n      <td>United States</td>\n      <td>No</td>\n      <td>Some college/university study without earning ...</td>\n      <td>Computer science, computer engineering, or sof...</td>\n      <td>...</td>\n      <td>Just as welcome now as I felt last year</td>\n      <td>NaN</td>\n      <td>24.0</td>\n      <td>Man</td>\n      <td>No</td>\n      <td>Straight / Heterosexual</td>\n      <td>White or of European descent</td>\n      <td>No</td>\n      <td>Appropriate in length</td>\n      <td>Easy</td>\n    </tr>\n    <tr>\n      <th>1169</th>\n      <td>2342</td>\n      <td>I am a developer by profession</td>\n      <td>Yes</td>\n      <td>Never</td>\n      <td>The quality of OSS and closed source software ...</td>\n      <td>Employed full-time</td>\n      <td>United Kingdom</td>\n      <td>No</td>\n      <td>Some college/university study without earning ...</td>\n      <td>Information systems, information technology, o...</td>\n      <td>...</td>\n      <td>Somewhat more welcome now than last year</td>\n      <td>Tech meetups or events in your area;Courses on...</td>\n      <td>24.0</td>\n      <td>Man</td>\n      <td>No</td>\n      <td>Straight / Heterosexual</td>\n      <td>White or of European descent</td>\n      <td>No</td>\n      <td>Too long</td>\n      <td>Easy</td>\n    </tr>\n    <tr>\n      <th>1170</th>\n      <td>2343</td>\n      <td>I am a developer by profession</td>\n      <td>Yes</td>\n      <td>Less than once a month but more than once per ...</td>\n      <td>OSS is, on average, of LOWER quality than prop...</td>\n      <td>Employed full-time</td>\n      <td>Canada</td>\n      <td>No</td>\n      <td>Master’s degree (MA, MS, M.Eng., MBA, etc.)</td>\n      <td>Computer science, computer engineering, or sof...</td>\n      <td>...</td>\n      <td>Somewhat more welcome now than last year</td>\n      <td>Tech articles written by other developers;Indu...</td>\n      <td>27.0</td>\n      <td>Man</td>\n      <td>No</td>\n      <td>Straight / Heterosexual</td>\n      <td>Black or of African descent;White or of Europe...</td>\n      <td>No</td>\n      <td>Appropriate in length</td>\n      <td>Neither easy nor difficult</td>\n    </tr>\n    <tr>\n      <th>1171</th>\n      <td>2344</td>\n      <td>I am a developer by profession</td>\n      <td>Yes</td>\n      <td>Never</td>\n      <td>The quality of OSS and closed source software ...</td>\n      <td>Employed full-time</td>\n      <td>United States</td>\n      <td>No</td>\n      <td>Bachelor’s degree (BA, BS, B.Eng., etc.)</td>\n      <td>Computer science, computer engineering, or sof...</td>\n      <td>...</td>\n      <td>Just as welcome now as I felt last year</td>\n      <td>Tech articles written by other developers;Indu...</td>\n      <td>24.0</td>\n      <td>Man</td>\n      <td>No</td>\n      <td>Straight / Heterosexual</td>\n      <td>White or of European descent</td>\n      <td>No</td>\n      <td>Appropriate in length</td>\n      <td>Easy</td>\n    </tr>\n    <tr>\n      <th>1172</th>\n      <td>2347</td>\n      <td>I am a developer by profession</td>\n      <td>Yes</td>\n      <td>Never</td>\n      <td>OSS is, on average, of HIGHER quality than pro...</td>\n      <td>Employed full-time</td>\n      <td>United Kingdom</td>\n      <td>No</td>\n      <td>Master’s degree (MA, MS, M.Eng., MBA, etc.)</td>\n      <td>Computer science, computer engineering, or sof...</td>\n      <td>...</td>\n      <td>Just as welcome now as I felt last year</td>\n      <td>NaN</td>\n      <td>NaN</td>\n      <td>Woman</td>\n      <td>No</td>\n      <td>Straight / Heterosexual</td>\n      <td>Biracial</td>\n      <td>No</td>\n      <td>Too long</td>\n      <td>Easy</td>\n    </tr>\n  </tbody>\n</table>\n<p>5 rows × 85 columns</p>\n</div>"
          },
          "metadata": {}
        }
      ],
      "execution_count": 208
    },
    {
      "cell_type": "code",
      "source": "#playing with series\nmy_df = df['Respondent'][df['Respondent'].duplicated()]\nmy_df.head(5)",
      "metadata": {
        "trusted": true
      },
      "outputs": [
        {
          "execution_count": 209,
          "output_type": "execute_result",
          "data": {
            "text/plain": "1168    2339\n1169    2342\n1170    2343\n1171    2344\n1172    2347\nName: Respondent, dtype: int64"
          },
          "metadata": {}
        }
      ],
      "execution_count": 209
    },
    {
      "cell_type": "markdown",
      "source": "## Removing duplicates\n",
      "metadata": {}
    },
    {
      "cell_type": "markdown",
      "source": "Remove the duplicate rows from the dataframe.\n",
      "metadata": {}
    },
    {
      "cell_type": "code",
      "source": "# your code goes here\ndf.drop(dup.index, axis=0, inplace=True)\ndf.shape",
      "metadata": {
        "trusted": true
      },
      "outputs": [
        {
          "execution_count": 210,
          "output_type": "execute_result",
          "data": {
            "text/plain": "(11398, 85)"
          },
          "metadata": {}
        }
      ],
      "execution_count": 210
    },
    {
      "cell_type": "markdown",
      "source": "Verify if duplicates were actually dropped.\n",
      "metadata": {}
    },
    {
      "cell_type": "code",
      "source": "# your code goes here\ndup = df[df.duplicated()]\ndup",
      "metadata": {
        "trusted": true
      },
      "outputs": [
        {
          "execution_count": 211,
          "output_type": "execute_result",
          "data": {
            "text/plain": "Empty DataFrame\nColumns: [Respondent, MainBranch, Hobbyist, OpenSourcer, OpenSource, Employment, Country, Student, EdLevel, UndergradMajor, EduOther, OrgSize, DevType, YearsCode, Age1stCode, YearsCodePro, CareerSat, JobSat, MgrIdiot, MgrMoney, MgrWant, JobSeek, LastHireDate, LastInt, FizzBuzz, JobFactors, ResumeUpdate, CurrencySymbol, CurrencyDesc, CompTotal, CompFreq, ConvertedComp, WorkWeekHrs, WorkPlan, WorkChallenge, WorkRemote, WorkLoc, ImpSyn, CodeRev, CodeRevHrs, UnitTests, PurchaseHow, PurchaseWhat, LanguageWorkedWith, LanguageDesireNextYear, DatabaseWorkedWith, DatabaseDesireNextYear, PlatformWorkedWith, PlatformDesireNextYear, WebFrameWorkedWith, WebFrameDesireNextYear, MiscTechWorkedWith, MiscTechDesireNextYear, DevEnviron, OpSys, Containers, BlockchainOrg, BlockchainIs, BetterLife, ITperson, OffOn, SocialMedia, Extraversion, ScreenName, SOVisit1st, SOVisitFreq, SOVisitTo, SOFindAnswer, SOTimeSaved, SOHowMuchTime, SOAccount, SOPartFreq, SOJobs, EntTeams, SOComm, WelcomeChange, SONewContent, Age, Gender, Trans, Sexuality, Ethnicity, Dependents, SurveyLength, SurveyEase]\nIndex: []\n\n[0 rows x 85 columns]",
            "text/html": "<div>\n<style scoped>\n    .dataframe tbody tr th:only-of-type {\n        vertical-align: middle;\n    }\n\n    .dataframe tbody tr th {\n        vertical-align: top;\n    }\n\n    .dataframe thead th {\n        text-align: right;\n    }\n</style>\n<table border=\"1\" class=\"dataframe\">\n  <thead>\n    <tr style=\"text-align: right;\">\n      <th></th>\n      <th>Respondent</th>\n      <th>MainBranch</th>\n      <th>Hobbyist</th>\n      <th>OpenSourcer</th>\n      <th>OpenSource</th>\n      <th>Employment</th>\n      <th>Country</th>\n      <th>Student</th>\n      <th>EdLevel</th>\n      <th>UndergradMajor</th>\n      <th>...</th>\n      <th>WelcomeChange</th>\n      <th>SONewContent</th>\n      <th>Age</th>\n      <th>Gender</th>\n      <th>Trans</th>\n      <th>Sexuality</th>\n      <th>Ethnicity</th>\n      <th>Dependents</th>\n      <th>SurveyLength</th>\n      <th>SurveyEase</th>\n    </tr>\n  </thead>\n  <tbody>\n  </tbody>\n</table>\n<p>0 rows × 85 columns</p>\n</div>"
          },
          "metadata": {}
        }
      ],
      "execution_count": 211
    },
    {
      "cell_type": "code",
      "source": "len(df['Respondent'].unique())",
      "metadata": {
        "trusted": true
      },
      "outputs": [
        {
          "execution_count": 214,
          "output_type": "execute_result",
          "data": {
            "text/plain": "11398"
          },
          "metadata": {}
        }
      ],
      "execution_count": 214
    },
    {
      "cell_type": "markdown",
      "source": "## Finding Missing values\n",
      "metadata": {}
    },
    {
      "cell_type": "markdown",
      "source": "Find the missing values for all columns.\n",
      "metadata": {}
    },
    {
      "cell_type": "code",
      "source": "print(df['EdLevel'].isnull().sum())\nprint(df['Country'].isnull().sum())",
      "metadata": {
        "trusted": true
      },
      "outputs": [
        {
          "name": "stdout",
          "text": "112\n0\n",
          "output_type": "stream"
        }
      ],
      "execution_count": 219
    },
    {
      "cell_type": "code",
      "source": "# your code goes here\ndf.isnull().sum()",
      "metadata": {
        "trusted": true
      },
      "outputs": [
        {
          "execution_count": 216,
          "output_type": "execute_result",
          "data": {
            "text/plain": "Respondent        0\nMainBranch        0\nHobbyist          0\nOpenSourcer       0\nOpenSource       81\n               ... \nSexuality       542\nEthnicity       675\nDependents      140\nSurveyLength     19\nSurveyEase       14\nLength: 85, dtype: int64"
          },
          "metadata": {}
        }
      ],
      "execution_count": 216
    },
    {
      "cell_type": "markdown",
      "source": "Find out how many rows are missing in the column 'WorkLoc'\n",
      "metadata": {}
    },
    {
      "cell_type": "code",
      "source": "# your code goes here\ndf['WorkLoc'].isnull().sum()",
      "metadata": {
        "trusted": true
      },
      "outputs": [
        {
          "execution_count": 217,
          "output_type": "execute_result",
          "data": {
            "text/plain": "32"
          },
          "metadata": {}
        }
      ],
      "execution_count": 217
    },
    {
      "cell_type": "code",
      "source": "miss_rows_mask = df['WorkLoc'].isnull()",
      "metadata": {
        "trusted": true
      },
      "outputs": [],
      "execution_count": 163
    },
    {
      "cell_type": "markdown",
      "source": "## Imputing missing values\n",
      "metadata": {}
    },
    {
      "cell_type": "markdown",
      "source": "Find the  value counts for the column WorkLoc.\n",
      "metadata": {}
    },
    {
      "cell_type": "code",
      "source": "# your code goes here\ndf['WorkLoc'].value_counts()",
      "metadata": {
        "trusted": true
      },
      "outputs": [
        {
          "execution_count": 164,
          "output_type": "execute_result",
          "data": {
            "text/plain": "Office                                            6806\nHome                                              3589\nOther place, such as a coworking space or cafe     971\nName: WorkLoc, dtype: int64"
          },
          "metadata": {}
        }
      ],
      "execution_count": 164
    },
    {
      "cell_type": "markdown",
      "source": "Identify the value that is most frequent (majority) in the WorkLoc column.\n",
      "metadata": {}
    },
    {
      "cell_type": "code",
      "source": "#finding minimum \ndf['UndergradMajor'].value_counts()[df['UndergradMajor'].value_counts() == df['UndergradMajor'].value_counts().min()].index.tolist()[0]",
      "metadata": {
        "trusted": true
      },
      "outputs": [
        {
          "execution_count": 228,
          "output_type": "execute_result",
          "data": {
            "text/plain": "'A health science (ex. nursing, pharmacy, radiology)'"
          },
          "metadata": {}
        }
      ],
      "execution_count": 228
    },
    {
      "cell_type": "code",
      "source": "#make a note of the majority value here, for future reference\nmost_freq = df['WorkLoc'].mode()[0]\nmost_freq",
      "metadata": {
        "trusted": true
      },
      "outputs": [
        {
          "execution_count": 165,
          "output_type": "execute_result",
          "data": {
            "text/plain": "'Office'"
          },
          "metadata": {}
        }
      ],
      "execution_count": 165
    },
    {
      "cell_type": "code",
      "source": "#checking correct values\ndf_miss_rows = df[miss_rows_mask]\ndf_miss_rows['WorkLoc']",
      "metadata": {
        "trusted": true,
        "scrolled": true
      },
      "outputs": [
        {
          "execution_count": 168,
          "output_type": "execute_result",
          "data": {
            "text/plain": "130      Office\n242      Office\n866      Office\n1455     Office\n1753     Office\n2339     Office\n2689     Office\n2788     Office\n3165     Office\n3213     Office\n3690     Office\n3996     Office\n4944     Office\n5654     Office\n5671     Office\n5824     Office\n6321     Office\n7361     Office\n7557     Office\n7714     Office\n7779     Office\n8010     Office\n8188     Office\n8855     Office\n9066     Office\n9070     Office\n10219    Office\n10709    Office\n10951    Office\n11253    Office\n11331    Office\n11521    Office\nName: WorkLoc, dtype: object"
          },
          "metadata": {}
        }
      ],
      "execution_count": 168
    },
    {
      "cell_type": "markdown",
      "source": "Impute (replace) all the empty rows in the column WorkLoc with the value that you have identified as majority.\n",
      "metadata": {}
    },
    {
      "cell_type": "code",
      "source": "# your code goes here\ndf['WorkLoc'] = df['WorkLoc'].fillna(most_freq)\n#run previous line again to check correct data ",
      "metadata": {
        "trusted": true
      },
      "outputs": [],
      "execution_count": 167
    },
    {
      "cell_type": "markdown",
      "source": "After imputation there should ideally not be any empty rows in the WorkLoc column.\n",
      "metadata": {}
    },
    {
      "cell_type": "markdown",
      "source": "Verify if imputing was successful.\n",
      "metadata": {}
    },
    {
      "cell_type": "code",
      "source": "# your code goes here\ndf['WorkLoc'].isnull().sum()",
      "metadata": {
        "trusted": true
      },
      "outputs": [
        {
          "execution_count": 126,
          "output_type": "execute_result",
          "data": {
            "text/plain": "0"
          },
          "metadata": {}
        }
      ],
      "execution_count": 126
    },
    {
      "cell_type": "markdown",
      "source": "## Normalizing data\n",
      "metadata": {}
    },
    {
      "cell_type": "markdown",
      "source": "There are two columns in the dataset that talk about compensation.\n\nOne is \"CompFreq\". This column shows how often a developer is paid (Yearly, Monthly, Weekly).\n\nThe other is \"CompTotal\". This column talks about how much the developer is paid per Year, Month, or Week depending upon his/her \"CompFreq\". \n\nThis makes it difficult to compare the total compensation of the developers.\n\nIn this section you will create a new column called 'NormalizedAnnualCompensation' which contains the 'Annual Compensation' irrespective of the 'CompFreq'.\n\nOnce this column is ready, it makes comparison of salaries easy.\n",
      "metadata": {}
    },
    {
      "cell_type": "markdown",
      "source": "<hr>\n",
      "metadata": {}
    },
    {
      "cell_type": "markdown",
      "source": "List out the various categories in the column 'CompFreq'\n",
      "metadata": {}
    },
    {
      "cell_type": "code",
      "source": "# your code goes here\ndf['CompFreq'].unique()",
      "metadata": {
        "trusted": true
      },
      "outputs": [
        {
          "execution_count": 169,
          "output_type": "execute_result",
          "data": {
            "text/plain": "array(['Yearly', 'Monthly', 'Weekly', nan], dtype=object)"
          },
          "metadata": {}
        }
      ],
      "execution_count": 169
    },
    {
      "cell_type": "code",
      "source": "df.loc[df['CompFreq'] == 'Yearly'].info()",
      "metadata": {
        "trusted": true
      },
      "outputs": [
        {
          "name": "stdout",
          "text": "<class 'pandas.core.frame.DataFrame'>\nInt64Index: 6073 entries, 0 to 11550\nData columns (total 85 columns):\n #   Column                  Non-Null Count  Dtype  \n---  ------                  --------------  -----  \n 0   Respondent              6073 non-null   int64  \n 1   MainBranch              6073 non-null   object \n 2   Hobbyist                6073 non-null   object \n 3   OpenSourcer             6073 non-null   object \n 4   OpenSource              6038 non-null   object \n 5   Employment              6073 non-null   object \n 6   Country                 6073 non-null   object \n 7   Student                 6060 non-null   object \n 8   EdLevel                 6025 non-null   object \n 9   UndergradMajor          5776 non-null   object \n 10  EduOther                6005 non-null   object \n 11  OrgSize                 6028 non-null   object \n 12  DevType                 6030 non-null   object \n 13  YearsCode               6069 non-null   object \n 14  Age1stCode              6067 non-null   object \n 15  YearsCodePro            6064 non-null   object \n 16  CareerSat               6073 non-null   object \n 17  JobSat                  6073 non-null   object \n 18  MgrIdiot                5745 non-null   object \n 19  MgrMoney                5743 non-null   object \n 20  MgrWant                 5744 non-null   object \n 21  JobSeek                 6073 non-null   object \n 22  LastHireDate            6073 non-null   object \n 23  LastInt                 5869 non-null   object \n 24  FizzBuzz                6053 non-null   object \n 25  JobFactors              6071 non-null   object \n 26  ResumeUpdate            6062 non-null   object \n 27  CurrencySymbol          6073 non-null   object \n 28  CurrencyDesc            6073 non-null   object \n 29  CompTotal               5992 non-null   float64\n 30  CompFreq                6073 non-null   object \n 31  ConvertedComp           5992 non-null   float64\n 32  WorkWeekHrs             6051 non-null   float64\n 33  WorkPlan                5998 non-null   object \n 34  WorkChallenge           5982 non-null   object \n 35  WorkRemote              6070 non-null   object \n 36  WorkLoc                 6051 non-null   object \n 37  ImpSyn                  6071 non-null   object \n 38  CodeRev                 6072 non-null   object \n 39  CodeRevHrs              4937 non-null   float64\n 40  UnitTests               6061 non-null   object \n 41  PurchaseHow             5963 non-null   object \n 42  PurchaseWhat            6061 non-null   object \n 43  LanguageWorkedWith      6066 non-null   object \n 44  LanguageDesireNextYear  5998 non-null   object \n 45  DatabaseWorkedWith      5805 non-null   object \n 46  DatabaseDesireNextYear  5432 non-null   object \n 47  PlatformWorkedWith      5839 non-null   object \n 48  PlatformDesireNextYear  5748 non-null   object \n 49  WebFrameWorkedWith      5267 non-null   object \n 50  WebFrameDesireNextYear  5113 non-null   object \n 51  MiscTechWorkedWith      4928 non-null   object \n 52  MiscTechDesireNextYear  5236 non-null   object \n 53  DevEnviron              6058 non-null   object \n 54  OpSys                   6059 non-null   object \n 55  Containers              6034 non-null   object \n 56  BlockchainOrg           4975 non-null   object \n 57  BlockchainIs            4876 non-null   object \n 58  BetterLife              6019 non-null   object \n 59  ITperson                6050 non-null   object \n 60  OffOn                   6047 non-null   object \n 61  SocialMedia             5922 non-null   object \n 62  Extraversion            6060 non-null   object \n 63  ScreenName              5843 non-null   object \n 64  SOVisit1st              5922 non-null   object \n 65  SOVisitFreq             6072 non-null   object \n 66  SOVisitTo               6073 non-null   object \n 67  SOFindAnswer            6072 non-null   object \n 68  SOTimeSaved             6045 non-null   object \n 69  SOHowMuchTime           5001 non-null   object \n 70  SOAccount               6073 non-null   object \n 71  SOPartFreq              5440 non-null   object \n 72  SOJobs                  6071 non-null   object \n 73  EntTeams                6070 non-null   object \n 74  SOComm                  6073 non-null   object \n 75  WelcomeChange           6033 non-null   object \n 76  SONewContent            4865 non-null   object \n 77  Age                     5929 non-null   float64\n 78  Gender                  6036 non-null   object \n 79  Trans                   6021 non-null   object \n 80  Sexuality               5826 non-null   object \n 81  Ethnicity               5780 non-null   object \n 82  Dependents              6010 non-null   object \n 83  SurveyLength            6062 non-null   object \n 84  SurveyEase              6065 non-null   object \ndtypes: float64(5), int64(1), object(79)\nmemory usage: 2.2+ MB\n",
          "output_type": "stream"
        }
      ],
      "execution_count": 234
    },
    {
      "cell_type": "markdown",
      "source": "Create a new column named 'NormalizedAnnualCompensation'. Use the hint given below if needed.\n",
      "metadata": {}
    },
    {
      "cell_type": "markdown",
      "source": "Double click to see the **Hint**.\n\n<!--\n\nUse the below logic to arrive at the values for the column NormalizedAnnualCompensation.\n\nIf the CompFreq is Yearly then use the exising value in CompTotal\nIf the CompFreq is Monthly then multiply the value in CompTotal with 12 (months in an year)\nIf the CompFreq is Weekly then multiply the value in CompTotal with 52 (weeks in an year)\n\n-->\n",
      "metadata": {}
    },
    {
      "cell_type": "code",
      "source": "# your code goes here\ndf['NormalizedAnnualCompensation'] = None\n\ndf.loc[df['CompFreq'] == 'Yearly', 'NormalizedAnnualCompensation'] = df['CompTotal']\ndf.loc[df['CompFreq'] == 'Monthly', 'NormalizedAnnualCompensation'] = df['CompTotal'] * 12\ndf.loc[df['CompFreq'] == 'Weekly', 'NormalizedAnnualCompensation'] = df['CompTotal'] * 52\n",
      "metadata": {
        "trusted": true
      },
      "outputs": [],
      "execution_count": 235
    },
    {
      "cell_type": "code",
      "source": "#checking\ndf.loc[df['CompFreq'] == 'Weekly', ['CompFreq','CompTotal', 'NormalizedAnnualCompensation']]",
      "metadata": {
        "trusted": true
      },
      "outputs": [
        {
          "execution_count": 236,
          "output_type": "execute_result",
          "data": {
            "text/plain": "      CompFreq  CompTotal NormalizedAnnualCompensation\n12      Weekly     2000.0                     104000.0\n13      Weekly    22000.0                    1144000.0\n46      Weekly    67800.0                    3525600.0\n76      Weekly   137000.0                    7124000.0\n135     Weekly        NaN                          NaN\n...        ...        ...                          ...\n11401   Weekly    90000.0                    4680000.0\n11407   Weekly     2250.0                     117000.0\n11417   Weekly    65000.0                    3380000.0\n11430   Weekly    90000.0                    4680000.0\n11443   Weekly     2880.0                     149760.0\n\n[331 rows x 3 columns]",
            "text/html": "<div>\n<style scoped>\n    .dataframe tbody tr th:only-of-type {\n        vertical-align: middle;\n    }\n\n    .dataframe tbody tr th {\n        vertical-align: top;\n    }\n\n    .dataframe thead th {\n        text-align: right;\n    }\n</style>\n<table border=\"1\" class=\"dataframe\">\n  <thead>\n    <tr style=\"text-align: right;\">\n      <th></th>\n      <th>CompFreq</th>\n      <th>CompTotal</th>\n      <th>NormalizedAnnualCompensation</th>\n    </tr>\n  </thead>\n  <tbody>\n    <tr>\n      <th>12</th>\n      <td>Weekly</td>\n      <td>2000.0</td>\n      <td>104000.0</td>\n    </tr>\n    <tr>\n      <th>13</th>\n      <td>Weekly</td>\n      <td>22000.0</td>\n      <td>1144000.0</td>\n    </tr>\n    <tr>\n      <th>46</th>\n      <td>Weekly</td>\n      <td>67800.0</td>\n      <td>3525600.0</td>\n    </tr>\n    <tr>\n      <th>76</th>\n      <td>Weekly</td>\n      <td>137000.0</td>\n      <td>7124000.0</td>\n    </tr>\n    <tr>\n      <th>135</th>\n      <td>Weekly</td>\n      <td>NaN</td>\n      <td>NaN</td>\n    </tr>\n    <tr>\n      <th>...</th>\n      <td>...</td>\n      <td>...</td>\n      <td>...</td>\n    </tr>\n    <tr>\n      <th>11401</th>\n      <td>Weekly</td>\n      <td>90000.0</td>\n      <td>4680000.0</td>\n    </tr>\n    <tr>\n      <th>11407</th>\n      <td>Weekly</td>\n      <td>2250.0</td>\n      <td>117000.0</td>\n    </tr>\n    <tr>\n      <th>11417</th>\n      <td>Weekly</td>\n      <td>65000.0</td>\n      <td>3380000.0</td>\n    </tr>\n    <tr>\n      <th>11430</th>\n      <td>Weekly</td>\n      <td>90000.0</td>\n      <td>4680000.0</td>\n    </tr>\n    <tr>\n      <th>11443</th>\n      <td>Weekly</td>\n      <td>2880.0</td>\n      <td>149760.0</td>\n    </tr>\n  </tbody>\n</table>\n<p>331 rows × 3 columns</p>\n</div>"
          },
          "metadata": {}
        }
      ],
      "execution_count": 236
    },
    {
      "cell_type": "code",
      "source": "#checking how much empty values for normalized column\ndf['NormalizedAnnualCompensation'].isnull().sum()",
      "metadata": {
        "trusted": true
      },
      "outputs": [
        {
          "execution_count": 172,
          "output_type": "execute_result",
          "data": {
            "text/plain": "815"
          },
          "metadata": {}
        }
      ],
      "execution_count": 172
    },
    {
      "cell_type": "code",
      "source": "#removing them (optional)\nmissing_series = df['NormalizedAnnualCompensation'][[df['NormalizedAnnualCompensation'].isnull()]]\ndf_new = df.drop(missing_series.index, axis=0, inplace=False)\ndf_new",
      "metadata": {
        "trusted": true
      },
      "outputs": [],
      "execution_count": null
    },
    {
      "cell_type": "markdown",
      "source": "## Authors\n",
      "metadata": {}
    },
    {
      "cell_type": "markdown",
      "source": "Ramesh Sannareddy\n",
      "metadata": {}
    },
    {
      "cell_type": "markdown",
      "source": "### Other Contributors\n",
      "metadata": {}
    },
    {
      "cell_type": "markdown",
      "source": "Rav Ahuja\n",
      "metadata": {}
    },
    {
      "cell_type": "markdown",
      "source": "## Change Log\n",
      "metadata": {}
    },
    {
      "cell_type": "markdown",
      "source": "| Date (YYYY-MM-DD) | Version | Changed By        | Change Description                 |\n| ----------------- | ------- | ----------------- | ---------------------------------- |\n| 2020-10-17        | 0.1     | Ramesh Sannareddy | Created initial version of the lab |\n",
      "metadata": {}
    },
    {
      "cell_type": "markdown",
      "source": " Copyright © 2020 IBM Corporation. This notebook and its source code are released under the terms of the [MIT License](https://cognitiveclass.ai/mit-license?utm_medium=Exinfluencer&utm_source=Exinfluencer&utm_content=000026UJ&utm_term=10006555&utm_id=NA-SkillsNetwork-Channel-SkillsNetworkCoursesIBMDA0321ENSkillsNetwork928-2022-01-01&cm_mmc=Email_Newsletter-_-Developer_Ed%2BTech-_-WW_WW-_-SkillsNetwork-Courses-IBM-DA0321EN-SkillsNetwork-21426264&cm_mmca1=000026UJ&cm_mmca2=10006555&cm_mmca3=M12345678&cvosrc=email.Newsletter.M12345678&cvo_campaign=000026UJ).\n",
      "metadata": {}
    }
  ]
}